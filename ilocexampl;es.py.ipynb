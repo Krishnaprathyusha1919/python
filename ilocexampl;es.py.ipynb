{
 "cells": [
  {
   "cell_type": "code",
   "execution_count": 1,
   "metadata": {},
   "outputs": [
    {
     "name": "stdout",
     "output_type": "stream",
     "text": [
      "   sno  Temperature  Pressure\n",
      "0    1            0    0.0002\n",
      "1    2           20    0.0012\n",
      "2    3           40    0.0060\n",
      "3    4           60    0.0300\n",
      "4    5           80    0.0900\n",
      "5    6          100    0.2700\n"
     ]
    }
   ],
   "source": [
    "import pandas as pd  \n",
    "data = pd.read_csv(\"data.csv\") \n",
    "print(data)"
   ]
  },
  {
   "cell_type": "code",
   "execution_count": 6,
   "metadata": {},
   "outputs": [
    {
     "name": "stdout",
     "output_type": "stream",
     "text": [
      "   sno  Temperature  Pressure\n",
      "4    5           80      0.09\n",
      "5    6          100      0.27\n"
     ]
    }
   ],
   "source": [
    "m=data.iloc[[4, 5]] \n",
    "print(m)"
   ]
  },
  {
   "cell_type": "code",
   "execution_count": 7,
   "metadata": {},
   "outputs": [
    {
     "name": "stdout",
     "output_type": "stream",
     "text": [
      "   sno  Temperature  Pressure\n",
      "4    5           80      0.09\n"
     ]
    }
   ],
   "source": [
    "n=data.iloc[[4]] \n",
    "print(n)"
   ]
  },
  {
   "cell_type": "code",
   "execution_count": 9,
   "metadata": {},
   "outputs": [
    {
     "name": "stdout",
     "output_type": "stream",
     "text": [
      "[[  2.00000000e+00   2.00000000e+01   1.20000000e-03]\n",
      " [  3.00000000e+00   4.00000000e+01   6.00000000e-03]]\n"
     ]
    }
   ],
   "source": [
    "x = data.iloc[[1, 2]].values\n",
    "print(x)"
   ]
  },
  {
   "cell_type": "code",
   "execution_count": 16,
   "metadata": {},
   "outputs": [
    {
     "name": "stdout",
     "output_type": "stream",
     "text": [
      "   Temperature  Pressure\n",
      "0            0    0.0002\n",
      "1           20    0.0012\n",
      "2           40    0.0060\n",
      "3           60    0.0300\n",
      "4           80    0.0900\n",
      "5          100    0.2700\n"
     ]
    }
   ],
   "source": [
    "x1 = data.iloc[:, [1, 2]]\n",
    "print(x1)"
   ]
  },
  {
   "cell_type": "code",
   "execution_count": null,
   "metadata": {
    "collapsed": true
   },
   "outputs": [],
   "source": []
  }
 ],
 "metadata": {
  "kernelspec": {
   "display_name": "Python 3",
   "language": "python",
   "name": "python3"
  },
  "language_info": {
   "codemirror_mode": {
    "name": "ipython",
    "version": 3
   },
   "file_extension": ".py",
   "mimetype": "text/x-python",
   "name": "python",
   "nbconvert_exporter": "python",
   "pygments_lexer": "ipython3",
   "version": "3.6.2"
  }
 },
 "nbformat": 4,
 "nbformat_minor": 2
}
