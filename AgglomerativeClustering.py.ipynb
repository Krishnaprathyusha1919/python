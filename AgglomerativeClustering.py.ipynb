{
 "cells": [
  {
   "cell_type": "code",
   "execution_count": 4,
   "metadata": {},
   "outputs": [
    {
     "name": "stdout",
     "output_type": "stream",
     "text": [
      "   sno  Temperature  Pressure\n",
      "0    1            0    0.0002\n",
      "1    2           20    0.0012\n",
      "2    3           40    0.0060\n",
      "3    4           60    0.0300\n",
      "4    5           80    0.0900\n",
      "5    6          100    0.2700\n"
     ]
    }
   ],
   "source": [
    "import pandas as pd\n",
    "import numpy as np\n",
    "from matplotlib import pyplot as plt\n",
    "from sklearn.cluster import AgglomerativeClustering\n",
    "import scipy.cluster.hierarchy as sch\n",
    "dataset = pd.read_csv('data.csv')\n",
    "print(dataset)\n",
    "\n"
   ]
  },
  {
   "cell_type": "code",
   "execution_count": 7,
   "metadata": {},
   "outputs": [
    {
     "name": "stdout",
     "output_type": "stream",
     "text": [
      "[[  0.00000000e+00   2.00000000e-04]\n",
      " [  2.00000000e+01   1.20000000e-03]\n",
      " [  4.00000000e+01   6.00000000e-03]\n",
      " [  6.00000000e+01   3.00000000e-02]\n",
      " [  8.00000000e+01   9.00000000e-02]\n",
      " [  1.00000000e+02   2.70000000e-01]]\n"
     ]
    }
   ],
   "source": [
    "X = dataset.iloc[:, [1, 2]].values\n",
    "print(X)"
   ]
  },
  {
   "cell_type": "code",
   "execution_count": 12,
   "metadata": {},
   "outputs": [
    {
     "name": "stdout",
     "output_type": "stream",
     "text": [
      "[0 0 4 2 3 1]\n"
     ]
    }
   ],
   "source": [
    "dendrogram = sch.dendrogram(sch.linkage(X, method='ward'))\n",
    "model = AgglomerativeClustering(n_clusters=5, affinity='euclidean', linkage='ward')\n",
    "model.fit(X)\n",
    "labels = model.labels_\n",
    "print(labels)"
   ]
  },
  {
   "cell_type": "code",
   "execution_count": 27,
   "metadata": {},
   "outputs": [
    {
     "data": {
      "image/png": "[encoded data removed]",
      "text/plain": [
       "<matplotlib.figure.Figure at 0x7f21524e3dd8>"
      ]
     },
     "metadata": {},
     "output_type": "display_data"
    }
   ],
   "source": [
    "plt.scatter(X[labels==0, 0], X[labels==0, 1], s=50, marker='', color='red')\n",
    "plt.show()"
   ]
  },
  {
   "cell_type": "code",
   "execution_count": 22,
   "metadata": {},
   "outputs": [
    {
     "data": {
      "image/png": "[encoded data removed]",
      "text/plain": [
       "<matplotlib.figure.Figure at 0x7f2152a7fdd8>"
      ]
     },
     "metadata": {},
     "output_type": "display_data"
    }
   ],
   "source": [
    "plt.scatter(X[labels==1, 0], X[labels==1, 1], s=50, marker='o', color='blue')\n",
    "plt.show()"
   ]
  },
  {
   "cell_type": "code",
   "execution_count": 28,
   "metadata": {},
   "outputs": [
    {
     "data": {
      "image/png": "[encoded data removed]",
      "text/plain": [
       "<matplotlib.figure.Figure at 0x7f21525cfa20>"
      ]
     },
     "metadata": {},
     "output_type": "display_data"
    }
   ],
   "source": [
    "plt.scatter(X[labels==0, 0], X[labels==0, 1], s=50, marker='o', color='red')\n",
    "plt.scatter(X[labels==1, 0], X[labels==1, 1], s=50, marker='o', color='blue')\n",
    "plt.scatter(X[labels==2, 0], X[labels==2, 1], s=50, marker='o', color='green')\n",
    "plt.scatter(X[labels==3, 0], X[labels==3, 1], s=50, marker='o', color='purple')\n",
    "plt.scatter(X[labels==4, 0], X[labels==4, 1], s=50, marker='o', color='orange')\n",
    "plt.show()"
   ]
  },
  {
   "cell_type": "code",
   "execution_count": null,
   "metadata": {
    "collapsed": true
   },
   "outputs": [],
   "source": []
  }
 ],
 "metadata": {
  "kernelspec": {
   "display_name": "Python 3",
   "language": "python",
   "name": "python3"
  }
 },
 "nbformat": 4,
 "nbformat_minor": 2
}
