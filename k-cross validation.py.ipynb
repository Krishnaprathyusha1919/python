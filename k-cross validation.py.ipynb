{
 "cells": [
  {
   "cell_type": "code",
   "execution_count": 3,
   "metadata": {},
   "outputs": [
    {
     "name": "stdout",
     "output_type": "stream",
     "text": [
      "   Unnamed: 0      Suburb           Address  Rooms Type      Price Method  \\\n",
      "0           1  Abbotsford      85 Turner St      2    h  1480000.0      S   \n",
      "1           2  Abbotsford   25 Bloomburg St      2    h  1035000.0      S   \n",
      "2           4  Abbotsford      5 Charles St      3    h  1465000.0     SP   \n",
      "3           5  Abbotsford  40 Federation La      3    h   850000.0     PI   \n",
      "4           6  Abbotsford       55a Park St      4    h  1600000.0     VB   \n",
      "\n",
      "  SellerG       Date  Distance      ...        Bathroom  Car  Landsize  \\\n",
      "0  Biggin  3/12/2016       2.5      ...             1.0  1.0     202.0   \n",
      "1  Biggin  4/02/2016       2.5      ...             1.0  0.0     156.0   \n",
      "2  Biggin  4/03/2017       2.5      ...             2.0  0.0     134.0   \n",
      "3  Biggin  4/03/2017       2.5      ...             2.0  1.0      94.0   \n",
      "4  Nelson  4/06/2016       2.5      ...             1.0  2.0     120.0   \n",
      "\n",
      "   BuildingArea  YearBuilt  CouncilArea  Lattitude Longtitude  \\\n",
      "0           NaN        NaN        Yarra   -37.7996   144.9984   \n",
      "1          79.0     1900.0        Yarra   -37.8079   144.9934   \n",
      "2         150.0     1900.0        Yarra   -37.8093   144.9944   \n",
      "3           NaN        NaN        Yarra   -37.7969   144.9969   \n",
      "4         142.0     2014.0        Yarra   -37.8072   144.9941   \n",
      "\n",
      "              Regionname  Propertycount  \n",
      "0  Northern Metropolitan         4019.0  \n",
      "1  Northern Metropolitan         4019.0  \n",
      "2  Northern Metropolitan         4019.0  \n",
      "3  Northern Metropolitan         4019.0  \n",
      "4  Northern Metropolitan         4019.0  \n",
      "\n",
      "[5 rows x 22 columns]\n"
     ]
    }
   ],
   "source": [
    "import pandas as pd\n",
    "data=pd.read_csv(\"melb_data.csv\")\n",
    "print(data.head())"
   ]
  },
  {
   "cell_type": "code",
   "execution_count": 8,
   "metadata": {},
   "outputs": [
    {
     "name": "stdout",
     "output_type": "stream",
     "text": [
      "   Rooms  Distance  Landsize  BuildingArea  YearBuilt\n",
      "0      2       2.5     202.0           NaN        NaN\n",
      "1      2       2.5     156.0          79.0     1900.0\n",
      "2      3       2.5     134.0         150.0     1900.0\n",
      "3      3       2.5      94.0           NaN        NaN\n",
      "4      4       2.5     120.0         142.0     2014.0\n",
      "0    1480000.0\n",
      "1    1035000.0\n",
      "2    1465000.0\n",
      "3     850000.0\n",
      "4    1600000.0\n",
      "Name: Price, dtype: float64\n"
     ]
    }
   ],
   "source": [
    "cols_to_use = ['Rooms', 'Distance', 'Landsize', 'BuildingArea', 'YearBuilt']\n",
    "X = data[cols_to_use]\n",
    "print(X.head())\n",
    "y = data.Price\n",
    "print(y.head())"
   ]
  },
  {
   "cell_type": "code",
   "execution_count": 9,
   "metadata": {
    "collapsed": true
   },
   "outputs": [],
   "source": [
    "from sklearn.ensemble import RandomForestRegressor\n",
    "from sklearn.pipeline import make_pipeline\n",
    "from sklearn.preprocessing import Imputer\n",
    "my_pipeline = make_pipeline(Imputer(), RandomForestRegressor())"
   ]
  },
  {
   "cell_type": "code",
   "execution_count": 10,
   "metadata": {},
   "outputs": [
    {
     "name": "stdout",
     "output_type": "stream",
     "text": [
      "[-322008.47753404 -305748.9522381  -280938.68760168]\n"
     ]
    }
   ],
   "source": [
    "from sklearn.model_selection import cross_val_score\n",
    "scores = cross_val_score(my_pipeline, X, y, scoring='neg_mean_absolute_error')\n",
    "print(scores)"
   ]
  },
  {
   "cell_type": "code",
   "execution_count": 11,
   "metadata": {},
   "outputs": [
    {
     "name": "stdout",
     "output_type": "stream",
     "text": [
      "Mean Absolute Error 302898.705791\n"
     ]
    }
   ],
   "source": [
    "print('Mean Absolute Error %2f' %(-1 * scores.mean()))\n"
   ]
  },
  {
   "cell_type": "code",
   "execution_count": null,
   "metadata": {
    "collapsed": true
   },
   "outputs": [],
   "source": []
  }
 ],
 "metadata": {
  "kernelspec": {
   "display_name": "Python 3",
   "language": "python",
   "name": "python3"
  },
  "language_info": {
   "codemirror_mode": {
    "name": "ipython",
    "version": 3
   },
   "file_extension": ".py",
   "mimetype": "text/x-python",
   "name": "python",
   "nbconvert_exporter": "python",
   "pygments_lexer": "ipython3",
   "version": "3.6.2"
  }
 },
 "nbformat": 4,
 "nbformat_minor": 2
}
