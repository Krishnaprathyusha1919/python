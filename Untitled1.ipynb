{
 "cells": [
  {
   "cell_type": "code",
   "execution_count": null,
   "metadata": {
    "collapsed": true
   },
   "outputs": [],
   "source": [
    "import urllib.request\n",
    "import yaml\n",
    "with urllib.request.urlopen('https://raw.githubusercontent.com/madmashup/targeted-marketing-predictive-engine/master/banking.csv?source=post_page---------------------------') as response:\n",
    "    mydict= yaml.load(response.read())\n",
    "print(type(mydict))\n",
    "print(mydict)\n",
    "import csv \n",
    "#my data \n",
    "  \n",
    "fields = [\"age,job,marital,education,default,housing,loan,contact,month,day_of_week,duration,campaign,pdays,previous,poutcome,emp_var_rate,cons_price_idx,cons_conf_idx,euribor3m,nr_employed,y\"] \n",
    "  \n",
    "filename = \"employee_records.csv\"\n",
    "   \n",
    "with open(filename, 'w+') as csvfile:  \n",
    "    writer = csv.DictWriter(csvfile, fieldnames = fields) \n",
    "    writer.writeheader() \n",
    "    writer.writerows(mydict)"
   ]
  },
  {
   "cell_type": "code",
   "execution_count": null,
   "metadata": {
    "collapsed": true
   },
   "outputs": [],
   "source": [
    "58"
   ]
  }
 ],
 "metadata": {
  "kernelspec": {
   "display_name": "Python 3",
   "language": "python",
   "name": "python3"
  },
  "language_info": {
   "codemirror_mode": {
    "name": "ipython",
    "version": 3
   },
   "file_extension": ".py",
   "mimetype": "text/x-python",
   "name": "python",
   "nbconvert_exporter": "python",
   "pygments_lexer": "ipython3",
   "version": "3.6.2"
  }
 },
 "nbformat": 4,
 "nbformat_minor": 2
}
